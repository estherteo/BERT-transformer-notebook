{
  "cells": [
    {
      "cell_type": "markdown",
      "metadata": {
        "id": "view-in-github",
        "colab_type": "text"
      },
      "source": [
        "<a href=\"https://colab.research.google.com/github/estherteo/BERT-transformer-notebook/blob/main/BERT_Fine_Tuning.ipynb\" target=\"_parent\"><img src=\"https://colab.research.google.com/assets/colab-badge.svg\" alt=\"Open In Colab\"/></a>"
      ]
    },
    {
      "cell_type": "markdown",
      "metadata": {
        "id": "cKuxU4vGX4hS"
      },
      "source": [
        "# 🤖 BERT Fine-Tuning for Sentiment Classification"
      ]
    },
    {
      "cell_type": "markdown",
      "metadata": {
        "id": "4wy0v1ObV3_s"
      },
      "source": [
        "In this homework you will revisit the sentiment classification task that we did in Homework 1. However, instead of using Naive Bayes and logistic regression, you will build a neural network classifier by fine-tuning a pretrained language model. This approach to building classifiers is the current state-of-the-art, so learning how to do this should set you up very well for many future NLP problems you may want to tackle.\n",
        "\n",
        "**Note**: As on previous assignments, you are allowed/encouraged to discuss with your classmates, but everything you submit must be your own work and you must understand everything you submit. The use of ChatGPT or other Generative AI tools is not permitted. Please list the names of everyone you worked with, as well as any resources you used.\n",
        "\n",
        "An important goal of this assignment is to teach you how to use online documentation. The world of deep learning libraries and codebases --specifically for NLP-- is rapidly evolving as interest in the field is growing and researchers increasingly opensource their code. As a result, a critical skill of successful NLP researchers and engineers is the ability to learn how to write code on one's own by reading documentation and looking at examples. [PyTorch](https://pytorch.org/docs/stable/index.html) and [Hugging Face](https://huggingface.co/docs) have great documentation. You may use whatever documentation you'd like on this homework."
      ]
    },
    {
      "cell_type": "markdown",
      "metadata": {
        "id": "a4FgCUY-AaCK"
      },
      "source": [
        "### ❗ **Remember to copy and save this notebook before starting** ❗\n",
        "\n"
      ]
    },
    {
      "cell_type": "markdown",
      "metadata": {
        "id": "ZXopOZfLYCbR"
      },
      "source": [
        "## Imports and package installation"
      ]
    },
    {
      "cell_type": "markdown",
      "metadata": {
        "id": "qqOAry_cFBTq"
      },
      "source": [
        "These are all of the packages available for use during this assignment, they're all you should need, but you are free to add others. They must first be installed on this runtime, and then imported."
      ]
    },
    {
      "cell_type": "code",
      "execution_count": 1,
      "metadata": {
        "id": "w-aANJIcYwgf",
        "colab": {
          "base_uri": "https://localhost:8080/"
        },
        "outputId": "f054d9b6-233a-450e-d137-1e6c5c4f0f1c"
      },
      "outputs": [
        {
          "output_type": "stream",
          "name": "stdout",
          "text": [
            "Requirement already satisfied: transformers in /usr/local/lib/python3.10/dist-packages (4.38.2)\n",
            "Requirement already satisfied: torch in /usr/local/lib/python3.10/dist-packages (2.2.1+cu121)\n",
            "Requirement already satisfied: datasets in /usr/local/lib/python3.10/dist-packages (2.18.0)\n",
            "Requirement already satisfied: tqdm in /usr/local/lib/python3.10/dist-packages (4.66.2)\n",
            "Requirement already satisfied: filelock in /usr/local/lib/python3.10/dist-packages (from transformers) (3.13.4)\n",
            "Requirement already satisfied: huggingface-hub<1.0,>=0.19.3 in /usr/local/lib/python3.10/dist-packages (from transformers) (0.20.3)\n",
            "Requirement already satisfied: numpy>=1.17 in /usr/local/lib/python3.10/dist-packages (from transformers) (1.25.2)\n",
            "Requirement already satisfied: packaging>=20.0 in /usr/local/lib/python3.10/dist-packages (from transformers) (24.0)\n",
            "Requirement already satisfied: pyyaml>=5.1 in /usr/local/lib/python3.10/dist-packages (from transformers) (6.0.1)\n",
            "Requirement already satisfied: regex!=2019.12.17 in /usr/local/lib/python3.10/dist-packages (from transformers) (2023.12.25)\n",
            "Requirement already satisfied: requests in /usr/local/lib/python3.10/dist-packages (from transformers) (2.31.0)\n",
            "Requirement already satisfied: tokenizers<0.19,>=0.14 in /usr/local/lib/python3.10/dist-packages (from transformers) (0.15.2)\n",
            "Requirement already satisfied: safetensors>=0.4.1 in /usr/local/lib/python3.10/dist-packages (from transformers) (0.4.2)\n",
            "Requirement already satisfied: typing-extensions>=4.8.0 in /usr/local/lib/python3.10/dist-packages (from torch) (4.11.0)\n",
            "Requirement already satisfied: sympy in /usr/local/lib/python3.10/dist-packages (from torch) (1.12)\n",
            "Requirement already satisfied: networkx in /usr/local/lib/python3.10/dist-packages (from torch) (3.3)\n",
            "Requirement already satisfied: jinja2 in /usr/local/lib/python3.10/dist-packages (from torch) (3.1.3)\n",
            "Requirement already satisfied: fsspec in /usr/local/lib/python3.10/dist-packages (from torch) (2023.6.0)\n",
            "Requirement already satisfied: nvidia-cuda-nvrtc-cu12==12.1.105 in /usr/local/lib/python3.10/dist-packages (from torch) (12.1.105)\n",
            "Requirement already satisfied: nvidia-cuda-runtime-cu12==12.1.105 in /usr/local/lib/python3.10/dist-packages (from torch) (12.1.105)\n",
            "Requirement already satisfied: nvidia-cuda-cupti-cu12==12.1.105 in /usr/local/lib/python3.10/dist-packages (from torch) (12.1.105)\n",
            "Requirement already satisfied: nvidia-cudnn-cu12==8.9.2.26 in /usr/local/lib/python3.10/dist-packages (from torch) (8.9.2.26)\n",
            "Requirement already satisfied: nvidia-cublas-cu12==12.1.3.1 in /usr/local/lib/python3.10/dist-packages (from torch) (12.1.3.1)\n",
            "Requirement already satisfied: nvidia-cufft-cu12==11.0.2.54 in /usr/local/lib/python3.10/dist-packages (from torch) (11.0.2.54)\n",
            "Requirement already satisfied: nvidia-curand-cu12==10.3.2.106 in /usr/local/lib/python3.10/dist-packages (from torch) (10.3.2.106)\n",
            "Requirement already satisfied: nvidia-cusolver-cu12==11.4.5.107 in /usr/local/lib/python3.10/dist-packages (from torch) (11.4.5.107)\n",
            "Requirement already satisfied: nvidia-cusparse-cu12==12.1.0.106 in /usr/local/lib/python3.10/dist-packages (from torch) (12.1.0.106)\n",
            "Requirement already satisfied: nvidia-nccl-cu12==2.19.3 in /usr/local/lib/python3.10/dist-packages (from torch) (2.19.3)\n",
            "Requirement already satisfied: nvidia-nvtx-cu12==12.1.105 in /usr/local/lib/python3.10/dist-packages (from torch) (12.1.105)\n",
            "Requirement already satisfied: triton==2.2.0 in /usr/local/lib/python3.10/dist-packages (from torch) (2.2.0)\n",
            "Requirement already satisfied: nvidia-nvjitlink-cu12 in /usr/local/lib/python3.10/dist-packages (from nvidia-cusolver-cu12==11.4.5.107->torch) (12.4.127)\n",
            "Requirement already satisfied: pyarrow>=12.0.0 in /usr/local/lib/python3.10/dist-packages (from datasets) (14.0.2)\n",
            "Requirement already satisfied: pyarrow-hotfix in /usr/local/lib/python3.10/dist-packages (from datasets) (0.6)\n",
            "Requirement already satisfied: dill<0.3.9,>=0.3.0 in /usr/local/lib/python3.10/dist-packages (from datasets) (0.3.8)\n",
            "Requirement already satisfied: pandas in /usr/local/lib/python3.10/dist-packages (from datasets) (2.0.3)\n",
            "Requirement already satisfied: xxhash in /usr/local/lib/python3.10/dist-packages (from datasets) (3.4.1)\n",
            "Requirement already satisfied: multiprocess in /usr/local/lib/python3.10/dist-packages (from datasets) (0.70.16)\n",
            "Requirement already satisfied: aiohttp in /usr/local/lib/python3.10/dist-packages (from datasets) (3.9.3)\n",
            "Requirement already satisfied: aiosignal>=1.1.2 in /usr/local/lib/python3.10/dist-packages (from aiohttp->datasets) (1.3.1)\n",
            "Requirement already satisfied: attrs>=17.3.0 in /usr/local/lib/python3.10/dist-packages (from aiohttp->datasets) (23.2.0)\n",
            "Requirement already satisfied: frozenlist>=1.1.1 in /usr/local/lib/python3.10/dist-packages (from aiohttp->datasets) (1.4.1)\n",
            "Requirement already satisfied: multidict<7.0,>=4.5 in /usr/local/lib/python3.10/dist-packages (from aiohttp->datasets) (6.0.5)\n",
            "Requirement already satisfied: yarl<2.0,>=1.0 in /usr/local/lib/python3.10/dist-packages (from aiohttp->datasets) (1.9.4)\n",
            "Requirement already satisfied: async-timeout<5.0,>=4.0 in /usr/local/lib/python3.10/dist-packages (from aiohttp->datasets) (4.0.3)\n",
            "Requirement already satisfied: charset-normalizer<4,>=2 in /usr/local/lib/python3.10/dist-packages (from requests->transformers) (3.3.2)\n",
            "Requirement already satisfied: idna<4,>=2.5 in /usr/local/lib/python3.10/dist-packages (from requests->transformers) (3.6)\n",
            "Requirement already satisfied: urllib3<3,>=1.21.1 in /usr/local/lib/python3.10/dist-packages (from requests->transformers) (2.0.7)\n",
            "Requirement already satisfied: certifi>=2017.4.17 in /usr/local/lib/python3.10/dist-packages (from requests->transformers) (2024.2.2)\n",
            "Requirement already satisfied: MarkupSafe>=2.0 in /usr/local/lib/python3.10/dist-packages (from jinja2->torch) (2.1.5)\n",
            "Requirement already satisfied: python-dateutil>=2.8.2 in /usr/local/lib/python3.10/dist-packages (from pandas->datasets) (2.8.2)\n",
            "Requirement already satisfied: pytz>=2020.1 in /usr/local/lib/python3.10/dist-packages (from pandas->datasets) (2023.4)\n",
            "Requirement already satisfied: tzdata>=2022.1 in /usr/local/lib/python3.10/dist-packages (from pandas->datasets) (2024.1)\n",
            "Requirement already satisfied: mpmath>=0.19 in /usr/local/lib/python3.10/dist-packages (from sympy->torch) (1.3.0)\n",
            "Requirement already satisfied: six>=1.5 in /usr/local/lib/python3.10/dist-packages (from python-dateutil>=2.8.2->pandas->datasets) (1.16.0)\n"
          ]
        }
      ],
      "source": [
        "!pip install transformers torch datasets tqdm"
      ]
    },
    {
      "cell_type": "code",
      "execution_count": 2,
      "metadata": {
        "id": "IUgKIvOaX1m_"
      },
      "outputs": [],
      "source": [
        "import warnings\n",
        "warnings.simplefilter(action='ignore', category=FutureWarning)\n",
        "\n",
        "import torch, codecs, random\n",
        "from torch.utils.data import DataLoader\n",
        "from tqdm.auto import tqdm\n",
        "import datasets\n",
        "from datasets import load_metric\n",
        "from google.colab import output\n",
        "import matplotlib.pyplot as plt\n",
        "import numpy as np\n",
        "from typing import List, Dict, Any\n",
        "from transformers import PreTrainedTokenizer\n",
        "from torch.optim import Optimizer\n",
        "from sklearn.model_selection import train_test_split\n",
        "\n",
        "output.enable_custom_widget_manager()\n",
        "\n",
        "# Uncomment if using Drive to upload the dataset\n",
        "# from google.colab import drive\n",
        "# drive.mount(\"/content/drive\", force_remount=True)"
      ]
    },
    {
      "cell_type": "markdown",
      "metadata": {
        "id": "XX2vi2LFer_D"
      },
      "source": [
        "If the following fails, your current Colab runtime doesn't have a GPU. To fix this, simply select 'Runtime' -> 'Change runtime type', then select 'GPU' under 'Hardware accelerator' and then press save."
      ]
    },
    {
      "cell_type": "code",
      "execution_count": 3,
      "metadata": {
        "id": "tJtwvP5Yensh"
      },
      "outputs": [],
      "source": [
        "assert torch.cuda.is_available()"
      ]
    },
    {
      "cell_type": "markdown",
      "metadata": {
        "id": "MDpb_V8vZFO0"
      },
      "source": [
        "## Part 1 - Dataset Preparation\n"
      ]
    },
    {
      "cell_type": "markdown",
      "source": [
        "### 1. Reading in the data"
      ],
      "metadata": {
        "id": "tfX_8BvjPxkZ"
      }
    },
    {
      "cell_type": "markdown",
      "metadata": {
        "id": "16kUKSyqE1C-"
      },
      "source": [
        "You will use the same dataset as in Homework 1. As a reminder, the dataset contains a total of 5,000 tweets labeled with their sentiment. The first 3,000 will be used in training. The next 1,000 will be used as a validation set, and the final 1,000 will be used for testing. The `'text'` column contains a raw Tweet, and the `'sentiment'` column contains the label (`'negative'`, `'neutral'`, or `'positive'`).\n",
        "\n",
        "We need to load the dataset.\n",
        "\n",
        "You can do this by uploading the dataset to this runtime:\n",
        "\n",
        "1. Click on the 'Files' tab of the left sidebar\n",
        "2. Click on the 'Upload' button that should now be exposed, and select the dataset from wherever you downloaded it\n",
        "3. Change the line `read_csv(FILEPATH, ...)` to `read_csv(\"Tweets_5K.csv\", ...)`\n",
        "\n",
        "However, you will have to reupload the file every time your runtime changes. You can also just update the `FOLDER` variable provided to redirect to where you have the data stored in your Drive.\n",
        "\n"
      ]
    },
    {
      "cell_type": "code",
      "execution_count": 4,
      "metadata": {
        "id": "a3OJcfzUZUQY"
      },
      "outputs": [],
      "source": [
        "import pandas as pd\n",
        "\n",
        "FOLDER = \"/content\"\n",
        "FILEPATH = f\"{FOLDER}/Tweets_5K.csv\"\n",
        "\n",
        "# header = 0 - means first row contains the col names\n",
        "dataset = pd.read_csv(FILEPATH, header=0, sep=',')\n",
        "dataset\n",
        "\n",
        "# X should be raw tweet text, y should be integer labels from the sentiment column ('negative': 0, 'neutral': 1, 'positive': 2)\n",
        "# X: List<String>\n",
        "# y: List<int> (can be list-like)\n",
        "X = dataset[\"text\"].to_list()\n",
        "\n",
        "sentiment_mapping = {'negative': 0, 'neutral': 1, 'positive': 2}\n",
        "dataset[\"sentiment\"] = dataset[\"sentiment\"].apply(sentiment_mapping.get)\n",
        "# print(dataset.head)\n",
        "\n",
        "y = dataset[\"sentiment\"].to_list()\n",
        "\n",
        "# print(X)\n",
        "# print(y)\n",
        "\n",
        "# # split X and y into a train/validation/test set, use fixed-indices (3000/1000/1000)\n",
        "# trainset, trainlabs = ..., ...\n",
        "# valset, vallabs = ..., ...\n",
        "# testset, testlabs = ..., ...\n",
        "trainset = X[:3000]\n",
        "valset = X[3000:4000]\n",
        "testset = X[4000:]\n",
        "\n",
        "trainlabs = y[:3000]\n",
        "vallabs = y[3000:4000]\n",
        "testlabs = y[4000:]"
      ]
    },
    {
      "cell_type": "markdown",
      "source": [
        "### 2. Preparing the dataset"
      ],
      "metadata": {
        "id": "FA-QT89IQU-r"
      }
    },
    {
      "cell_type": "markdown",
      "metadata": {
        "id": "5NVKMPiSZniO"
      },
      "source": [
        "\n",
        "As we saw in class, the models you will be working with require the input to be structured in a very particular way (for example, BERT requires [CLS] and [SEP] tokens). To set up our data and to read it into our models, we will use Pytorch's `Dataset` and `DataLoader`, which you can read about here: https://pytorch.org/tutorials/beginner/basics/data_tutorial.html.\n",
        "\n",
        "This is a custom format you can use across projects. Here, we will define a child class to the Pytorch `Dataset` class, such that we can customize it for our specific dataset, and also configure the tokenizer (which we'll initialize in a moment), which will get our data set up in the format required for the models. A custom `Dataset` class requires three functions:  `__init__`, `__len__`, and `__getitem__`.  The `__getitem__` function is what will be used to fetch all training examples by the eventual dataloader. `__getitem__` will tokenize the input tweets in the BERT fashion ([CLS] and [SEP] tokens need to be inserted as discussed in lecture, etc.)\n",
        "\n",
        "This has been written for you."
      ]
    },
    {
      "cell_type": "code",
      "execution_count": 5,
      "metadata": {
        "id": "x09KaXlaZmvo"
      },
      "outputs": [],
      "source": [
        "class TweetDataset(torch.utils.data.Dataset):\n",
        "  \"\"\"\n",
        "  A PyTorch Dataset for our tweets that can be iterated through using __getitem__\n",
        "  \"\"\"\n",
        "  def __init__(self, tweets : List[str], sentiments : List[int], tokenizer : PreTrainedTokenizer) -> None:\n",
        "    \"\"\"\n",
        "    Initializes the TweetDataset from a list of tweets, their corresponding sentiments, and a tokenizer.\n",
        "\n",
        "    Attributes\n",
        "    ----------\n",
        "    tweets : List[str]\n",
        "      A list of tweets, where each tweet is a string\n",
        "    sentiments: List[int]\n",
        "      A list of sentiments represented as integers ('negative': 0, 'neutral': 1, 'positive': 2)\n",
        "    tokenizer : PreTrainedTokenizer\n",
        "      Any PreTrainedTokenizer from HuggingFace can be used to encode the string inputs for a model\n",
        "    \"\"\"\n",
        "    self.tweets = tweets\n",
        "    self.sentiments = sentiments\n",
        "    self.tokenizer = tokenizer\n",
        "    self.max_len = tokenizer.model_max_length\n",
        "\n",
        "  def __len__(self) -> int:\n",
        "    \"\"\"\n",
        "    Returns the number of tweets in the dataset.\n",
        "    \"\"\"\n",
        "    return len(self.tweets)\n",
        "\n",
        "  def __getitem__(self, index : int) -> Dict[str, Any]:\n",
        "    \"\"\"\n",
        "    Retrieve a preprocessed data item from the dataset at the specified index.\n",
        "    This is called when iterating through a TweetDataset\n",
        "\n",
        "    Parameters:\n",
        "    ----------\n",
        "    index : int\n",
        "        The index of the data item to retrieve.\n",
        "\n",
        "    Returns:\n",
        "    -------\n",
        "    Dict[str, Any]\n",
        "        A dictionary containing the preprocessed data for the given index.\n",
        "        The dictionary includes the following keys:\n",
        "        - 'input_ids': Encoded input IDs for the tweet.\n",
        "        - 'attention_mask': Attention mask for the tweet.\n",
        "        - 'labels': Sentiment label as a PyTorch tensor.\n",
        "    \"\"\"\n",
        "    tweet = str(self.tweets[index])\n",
        "    sentiments = self.sentiments[index]\n",
        "\n",
        "    encoded_tweet = self.tokenizer.encode_plus(\n",
        "      tweet,\n",
        "      add_special_tokens      = True,\n",
        "      max_length              = self.max_len,\n",
        "      return_token_type_ids   = False,\n",
        "      return_attention_mask   = True,\n",
        "      return_tensors          = \"pt\",\n",
        "      padding                 = \"max_length\",\n",
        "      truncation              = True\n",
        "    )\n",
        "\n",
        "    return {\n",
        "      'input_ids': encoded_tweet['input_ids'][0],\n",
        "      'attention_mask': encoded_tweet['attention_mask'][0],\n",
        "      'labels': torch.tensor(sentiments, dtype=torch.long)\n",
        "    }"
      ]
    },
    {
      "cell_type": "markdown",
      "metadata": {
        "id": "dj7nxDf4ahUS"
      },
      "source": [
        "### 3. Tokenizer and dataloader:\n"
      ]
    },
    {
      "cell_type": "markdown",
      "metadata": {
        "id": "AXOMe3837Z0t"
      },
      "source": [
        "Now that we have the `TweetDataset` class, you must construct the appropriate instances for our training, validation, and testing sets. Afterwhich, they must be used to construct PyTorch `DataLoader` instances (refer to PyTorch [documentation](https://pytorch.org/tutorials/beginner/basics/data_tutorial.html)).\n",
        "\n",
        "At this point, batch sizes will have to be specified. The batch size dictates how many training instances are seen before the model's parameters are updated in gradient descent. For example, with a batch size of 32, the model will process 32 input sentences, before updating weights/parameters. Choosing the batch size may require some experimentation. The larger the batch size, the faster the models will train (because you aren't calculating gradients and updating as often). However, larger batch sizes will also use more VMEM (Video Memory, like RAM, but on a GPU). If you get an error during training or testing about running out of memory, reduce your batch sizes here. I would recommend using a batch size of 32 to start.\n",
        "\n",
        "Finally, we'll use the distilbert-base-uncased tokenizer from Hugging Face to preprocess our tweets. This matches the model we will use down the line, and ensures our input is in the right format."
      ]
    },
    {
      "cell_type": "code",
      "execution_count": 6,
      "metadata": {
        "id": "vYg7GtKZbBuk",
        "colab": {
          "base_uri": "https://localhost:8080/"
        },
        "outputId": "6d2a8367-57ad-49cb-b2cd-00a0be13b258"
      },
      "outputs": [
        {
          "output_type": "stream",
          "name": "stderr",
          "text": [
            "/usr/local/lib/python3.10/dist-packages/huggingface_hub/utils/_token.py:88: UserWarning: \n",
            "The secret `HF_TOKEN` does not exist in your Colab secrets.\n",
            "To authenticate with the Hugging Face Hub, create a token in your settings tab (https://huggingface.co/settings/tokens), set it as secret in your Google Colab and restart your session.\n",
            "You will be able to reuse this secret in all of your notebooks.\n",
            "Please note that authentication is recommended but still optional to access public models or datasets.\n",
            "  warnings.warn(\n"
          ]
        }
      ],
      "source": [
        "from transformers import AutoTokenizer\n",
        "from torch.utils.data import DataLoader\n",
        "\n",
        "# use this for the tokenizer argument of the TweetDataset\n",
        "tokenizer = AutoTokenizer.from_pretrained('distilbert-base-uncased')\n",
        "\n",
        "# define the following TweetDataset objects... be careful to split the data as previously specified\n",
        "train_dataset = TweetDataset(trainset, trainlabs, tokenizer)\n",
        "validation_dataset = TweetDataset(valset, vallabs, tokenizer)\n",
        "test_dataset = TweetDataset(testset, testlabs, tokenizer)\n",
        "\n",
        "# now construct DataLoader objects from the TweetDataset objects\n",
        "# remember that the TweetDataset class is a child class of torch.utils.data.Dataset\n",
        "train_dataloader = DataLoader(train_dataset, batch_size=15, shuffle=True)\n",
        "validation_dataloader = DataLoader(validation_dataset, batch_size=15, shuffle=False)\n",
        "test_dataloader = DataLoader(test_dataset, batch_size=15, shuffle=False)"
      ]
    },
    {
      "cell_type": "markdown",
      "source": [
        "## Part 2: Untrained Model (Baseline)"
      ],
      "metadata": {
        "id": "zu_jZWQPU7I1"
      }
    },
    {
      "cell_type": "markdown",
      "source": [
        "In this part of the homework, you will start by working with a completely untrained model and testing how well it does on the sentiment analysis task."
      ],
      "metadata": {
        "id": "5bYiVi_dV2vo"
      }
    },
    {
      "cell_type": "markdown",
      "metadata": {
        "id": "EI6K41lqbibh"
      },
      "source": [
        "### 1. Loading untrained model:"
      ]
    },
    {
      "cell_type": "markdown",
      "metadata": {
        "id": "TNlsYbbcDGPI"
      },
      "source": [
        "For this homework, you will be working with a model called DistilBERT, which is usually trained for a masked language modeling task. You can read more about it [here](https://huggingface.co/distilbert-base-uncased). It's basically a smaller version of BERT, which was covered in lecture (it's been '[distilled](https://arxiv.org/abs/1910.01108)').\n",
        "\n",
        "Here, you will use the Hugging Face transformers library to load the architecture of the distilbert-base-uncased model. You want to load the UNTRAINED model, meaning you will set up the architecture, but the weights will all be randomly initialized (i.e., this is what the model looks like before any gradient descent is done)."
      ]
    },
    {
      "cell_type": "code",
      "execution_count": 7,
      "metadata": {
        "id": "s9K1pZiZb0fd"
      },
      "outputs": [],
      "source": [
        "from transformers import AutoConfig, AutoModelForSequenceClassification\n",
        "\n",
        "# getting the distilbert-base-uncased config...\n",
        "config = AutoConfig.from_pretrained(\"distilbert-base-uncased\", num_labels=3)\n",
        "# ...from which we can use AutoModelForSequenceClassification to instantiate\n",
        "# an UNTRAINED version of the above model, read Hugging Face documentation\n",
        "# to figure out how to do so!\n",
        "untrained_model = AutoModelForSequenceClassification.from_config(config)\n",
        "# this is untrained, to load the weights instead of .from_config do .from_pretrained()"
      ]
    },
    {
      "cell_type": "markdown",
      "metadata": {
        "id": "8A-9a2VlnJOB"
      },
      "source": [
        "### 2. Write function to evaluate model predictions"
      ]
    },
    {
      "cell_type": "markdown",
      "metadata": {
        "id": "yb2OwkVGum5v"
      },
      "source": [
        "We need to define an evaluation function, such that we can measure a model's performance on a dataset. Here, we will be looking at accuracy.\n",
        "\n",
        "For evaluation, there are a couple of steps that must be taken. For each batch in the evaluation set:\n",
        "1. Apply the model on the batch (feedforward pass through the model)\n",
        "2. Obtain the predictions from the model output\n",
        "3. Update the metrics and progress bar\n",
        "\n",
        "Basically, your task is to finish the evaluate function so that it takes a model and test set and outputs what the model's accuracy is on that test set. You need not use the starter code provided, as long as the inputs/outputs match what is given.\n",
        "\n",
        "Hugging Face documentation is your friend - the function signature is also provided.\n",
        "\n",
        "**A note on logits**: DistilBERT's classifier outputs \"logits\". Logits are unnormalized predictions of a model (i.e., this is the input to the softmax function we've discussed in class). In this case, we have three classes: negative, neutral, or positive. One can assign a single output at the end of a model to each of these classes. For the purpose of this homework, we will define the model's prediction to be the class with the maximum logit value (i.e., take the argmax across the outputs). That is, the argmax of the logits is our prediction, which can be compared to the label. This may be useful when tracking metrics. Note: Softmax takes the logits as input and acts as a normalizing function, which outputs a probability distribution over the outputs. But, the argmax of the logits will be the same as the argmax of the softmax output, so no need to use softmax here.\n",
        "\n",
        "**A note on PyTorch devices**\n",
        "\n",
        "In PyTorch, tensor operations can be performed on devices, usually CPUs and GPUs. Tensors can be set to certain devices to optimize operations through parallelization. The operation to set a tensor to a device can be seen [here](https://pytorch.org/docs/stable/generated/torch.Tensor.to.html). Note that the returned tensor is now a copy if the device is changed. **Hint**: Setting a tensor to the correct device is necessary when using them for a model on the GPU!\n",
        "\n",
        "In the code below, the model's parameters are loaded onto the device we are using. This gives us a way to use the GPU to run models by putting all of its parameters and computations on it!\n",
        "\n"
      ]
    },
    {
      "cell_type": "code",
      "execution_count": 8,
      "metadata": {
        "id": "_jxwtMoG_K2-",
        "colab": {
          "base_uri": "https://localhost:8080/"
        },
        "outputId": "7ff10ec0-ed86-4f1b-fe5a-2c6accc4a135"
      },
      "outputs": [
        {
          "output_type": "execute_result",
          "data": {
            "text/plain": [
              "DistilBertForSequenceClassification(\n",
              "  (distilbert): DistilBertModel(\n",
              "    (embeddings): Embeddings(\n",
              "      (word_embeddings): Embedding(30522, 768, padding_idx=0)\n",
              "      (position_embeddings): Embedding(512, 768)\n",
              "      (LayerNorm): LayerNorm((768,), eps=1e-12, elementwise_affine=True)\n",
              "      (dropout): Dropout(p=0.1, inplace=False)\n",
              "    )\n",
              "    (transformer): Transformer(\n",
              "      (layer): ModuleList(\n",
              "        (0-5): 6 x TransformerBlock(\n",
              "          (attention): MultiHeadSelfAttention(\n",
              "            (dropout): Dropout(p=0.1, inplace=False)\n",
              "            (q_lin): Linear(in_features=768, out_features=768, bias=True)\n",
              "            (k_lin): Linear(in_features=768, out_features=768, bias=True)\n",
              "            (v_lin): Linear(in_features=768, out_features=768, bias=True)\n",
              "            (out_lin): Linear(in_features=768, out_features=768, bias=True)\n",
              "          )\n",
              "          (sa_layer_norm): LayerNorm((768,), eps=1e-12, elementwise_affine=True)\n",
              "          (ffn): FFN(\n",
              "            (dropout): Dropout(p=0.1, inplace=False)\n",
              "            (lin1): Linear(in_features=768, out_features=3072, bias=True)\n",
              "            (lin2): Linear(in_features=3072, out_features=768, bias=True)\n",
              "            (activation): GELUActivation()\n",
              "          )\n",
              "          (output_layer_norm): LayerNorm((768,), eps=1e-12, elementwise_affine=True)\n",
              "        )\n",
              "      )\n",
              "    )\n",
              "  )\n",
              "  (pre_classifier): Linear(in_features=768, out_features=768, bias=True)\n",
              "  (classifier): Linear(in_features=768, out_features=3, bias=True)\n",
              "  (dropout): Dropout(p=0.2, inplace=False)\n",
              ")"
            ]
          },
          "metadata": {},
          "execution_count": 8
        }
      ],
      "source": [
        "# For any parameter named 'device', pass the following variable:\n",
        "device = torch.device(\"cuda\")\n",
        "\n",
        "# Loading the model onto the device\n",
        "untrained_model.to(device)"
      ]
    },
    {
      "cell_type": "code",
      "execution_count": 15,
      "metadata": {
        "id": "4HrfvEdoABqU"
      },
      "outputs": [],
      "source": [
        "def update_metrics(metrics: List[datasets.Metric], predictions: torch.Tensor, labels: torch.Tensor) -> None:\n",
        "  \"\"\"\n",
        "  Update a list of metrics with new predictions and labels\n",
        "\n",
        "  Parameters:\n",
        "  -----------\n",
        "  metrics : List[Metric]\n",
        "      List of metrics.\n",
        "  predictions : torch.Tensor\n",
        "      Tensor of predictions of shape (batch_size, ...)\n",
        "  labels : torch.Tensor\n",
        "      Tensor of labels of shape (batch_size, ...)\n",
        "\n",
        "  Returns:\n",
        "  --------\n",
        "  None\n",
        "  \"\"\"\n",
        "  # Nothing TODO here! This updates metrics based on a batch of predictions\n",
        "  # and a batch of labels.\n",
        "  for metric in metrics:\n",
        "    metric.add_batch(predictions=predictions, references=labels)\n",
        "\n",
        "def evaluate(model: torch.nn.Module, test_dataloader: torch.utils.data.DataLoader,\n",
        "             device: torch.device, metric_strs: List[str]) -> Dict[str, float]:\n",
        "  \"\"\"\n",
        "  Evaluate a PyTorch Model\n",
        "\n",
        "  Parameters:\n",
        "  -----------\n",
        "  model : torch.nn.Module\n",
        "      The model to be evaluated.\n",
        "  test_dataloader : torch.utils.data.DataLoader\n",
        "      DataLoader containing testing examples.\n",
        "  device : torch.device\n",
        "      The device that the evaluation will be performed on.\n",
        "  metric_strs : List[str]\n",
        "      The names of Hugging Face metrics to use.\n",
        "\n",
        "  Returns:\n",
        "  --------\n",
        "  Dict[str, float]\n",
        "      Dictionary of metric names mapped to their values.\n",
        "  \"\"\"\n",
        "  # load metrics\n",
        "  metrics = [load_metric(x) for x in metric_strs] # could add more here!\n",
        "  model.eval()\n",
        "\n",
        "  # we like progress bars :)\n",
        "  progress_bar = tqdm(range(len(test_dataloader)))\n",
        "  with tqdm(progress_bar) as pbar:\n",
        "      for batch_idx, sample in enumerate(test_dataloader):\n",
        "          preds = sample['input_ids']\n",
        "          labs = sample['labels']\n",
        "          attention_mask = sample['attention_mask']\n",
        "\n",
        "          # Move the data to the device (CPU or GPU)\n",
        "          preds = preds.to(device)\n",
        "          labs = labs.to(device)\n",
        "          attention_mask = attention_mask.to(device)\n",
        "\n",
        "          # Feedforward pass\n",
        "          outputs = model(preds, attention_mask)\n",
        "          logits = outputs.logits\n",
        "\n",
        "          # Detach logits to free memory\n",
        "          predictions = logits.detach()\n",
        "          predicted = torch.argmax(logits, dim=1)\n",
        "          update_metrics(metrics, predictions, labs)\n",
        "\n",
        "          pbar.update(1)\n",
        "\n",
        "  # HINT: progress_bar.update(1) should be used to show progress after an iteration\n",
        "\n",
        "  # TODO: Fill in the evaluate function by applying the model with the dataloader\n",
        "\n",
        " # HINT: Use .detach() before passing the predictions into update_metrics to prevent memory issues\n",
        "  # and to send the model inputs to the device the model is on\n",
        "  # predictions = outputs.detach()\n",
        "  # Update metrics using update_metrics function\n",
        "  # predictions = outputs.logits.detach()\n",
        "\n",
        "  # compute and return metrics (nothing TODO here)\n",
        "  computed = {}\n",
        "  for m in metrics:\n",
        "    computed = {**computed, **m.compute()}\n",
        "\n",
        "  return computed"
      ]
    },
    {
      "cell_type": "markdown",
      "metadata": {
        "id": "evVXkQgQqZ59"
      },
      "source": [
        "### 3. Baseline performance:"
      ]
    },
    {
      "cell_type": "markdown",
      "metadata": {
        "id": "PII9bwfJUgKM"
      },
      "source": [
        "*Warning: Be aware that since this is a Jupyter Notebook, sometimes it is necessary to re-execute the cell defining the models in order to restart training from scratch. Also, sometimes 'CUDA out of memory' errors are due to past models residing on the GPU, the easiest way to fix this is to restart the Colab runtime (CTRL + M + .), or to run a cell that deletes models (`del <model>`). A batch size of 32 for training should be small enough such that models train without memory issues. To change the batch size, modify the `batch_size` parameter passed when initializing the `DataLoader`.*"
      ]
    },
    {
      "cell_type": "markdown",
      "metadata": {
        "id": "xataBCpEqfvT"
      },
      "source": [
        "Now that we have an untrained model, our dataset, and an evaluation function, we can evaluate the to find our baseline accuracies! Let's see how well a model that is completely untrained does.\n",
        "\n",
        "The next cell contains some code to make accuracy plots."
      ]
    },
    {
      "cell_type": "code",
      "execution_count": 10,
      "metadata": {
        "id": "bvp234nxqUrY"
      },
      "outputs": [],
      "source": [
        "from scipy.stats import describe\n",
        "from math import sqrt\n",
        "\n",
        "def make_plots(perfs: List[float], names: List[str]) -> None:\n",
        "  \"\"\"\n",
        "  Create bar plots for performance metrics.\n",
        "\n",
        "  Parameters:\n",
        "  -----------\n",
        "  perfs : List[float]\n",
        "      List of performance values (e.g., accuracies).\n",
        "  names : List[str]\n",
        "      List of names for the corresponding performance metrics.\n",
        "  \"\"\"\n",
        "  # Nothing TODO here\n",
        "  for perf, name in zip(perfs, names):\n",
        "    print(f\"{name} accuracy: {perf}\")\n",
        "  plt.bar(np.arange(len(perfs)), perfs)\n",
        "  plt.xticks(np.arange(len(names)), names)\n",
        "  plt.show()"
      ]
    },
    {
      "cell_type": "code",
      "source": [
        "torch.cuda.empty_cache()"
      ],
      "metadata": {
        "id": "AYXUG8OSudaF"
      },
      "execution_count": 16,
      "outputs": []
    },
    {
      "cell_type": "markdown",
      "metadata": {
        "id": "jHuG9Utbq0Bi"
      },
      "source": [
        "Now, let's execute our evaluation loop on the testing set. In terms of metrics, we'll only keep track of accuracy for now, however you can add others to the metric list (check the Hugging Face datasets documentation).\n"
      ]
    },
    {
      "cell_type": "code",
      "execution_count": 17,
      "metadata": {
        "id": "JNhf8-7QsIwe",
        "colab": {
          "base_uri": "https://localhost:8080/",
          "height": 420,
          "referenced_widgets": [
            "a8effd0096d64c19910de045576d6cc8",
            "33f830a816ab4e208a660412c19d8f9b",
            "7480bf4eeb7f4839b022bdd54028d4e3",
            "6383283efb264e899abff5b9f053d956",
            "595ddc9ddc0a4b05a7ab70dcaa2ae1cd",
            "eadbb92526e2414fad0a2e0786d3e1fb",
            "57814766827041778ef36dbe58423f0f",
            "85a0e8a7ed21410daeaa2a45af5242d3",
            "23310e200ac2474c9d31d06aed39797d",
            "71922aa9e54a424292f65325d09cc008",
            "bd1148ee871c44999d6ec00ce3a8132f",
            "3dfbd8055f8442d9b6450e5de1755d15",
            "59e9b3af3e2d4430bc57bf8e19c89edc",
            "def1804daf684efbb385845ecf1dc10a",
            "d70f52f3a66c4b158bdefe80ea4c6611",
            "d5a8a792e026419eb1500b98bf1c088f",
            "caf3b045e94d47d989fb6cd12952dfcd",
            "f586d015f1c24f8c8d6be05a172234e3",
            "9c6dd4f1391243bbbbcf32b8de32b771",
            "fa09bee0df954e0b8b811672d3d20845",
            "47967c7d6569464aae918a12c5d1c7f1",
            "1d5930901b804a9eb45ec444e2780b21"
          ]
        },
        "outputId": "ed5ee69d-105d-4385-abd2-afeb8a56bf6c"
      },
      "outputs": [
        {
          "output_type": "display_data",
          "data": {
            "text/plain": [
              "  0%|          | 0/67 [00:00<?, ?it/s]"
            ],
            "application/vnd.jupyter.widget-view+json": {
              "version_major": 2,
              "version_minor": 0,
              "model_id": "a8effd0096d64c19910de045576d6cc8"
            }
          },
          "metadata": {
            "application/vnd.jupyter.widget-view+json": {
              "colab": {
                "custom_widget_manager": {
                  "url": "https://ssl.gstatic.com/colaboratory-static/widgets/colab-cdn-widget-manager/2b70e893a8ba7c0f/manager.min.js"
                }
              }
            }
          }
        },
        {
          "output_type": "display_data",
          "data": {
            "text/plain": [
              "  0%|          | 0/67 [00:00<?, ?it/s]"
            ],
            "application/vnd.jupyter.widget-view+json": {
              "version_major": 2,
              "version_minor": 0,
              "model_id": "3dfbd8055f8442d9b6450e5de1755d15"
            }
          },
          "metadata": {
            "application/vnd.jupyter.widget-view+json": {
              "colab": {
                "custom_widget_manager": {
                  "url": "https://ssl.gstatic.com/colaboratory-static/widgets/colab-cdn-widget-manager/2b70e893a8ba7c0f/manager.min.js"
                }
              }
            }
          }
        },
        {
          "output_type": "error",
          "ename": "TypeError",
          "evalue": "only length-1 arrays can be converted to Python scalars",
          "traceback": [
            "\u001b[0;31m---------------------------------------------------------------------------\u001b[0m",
            "\u001b[0;31mTypeError\u001b[0m                                 Traceback (most recent call last)",
            "\u001b[0;32m<ipython-input-17-612606da3b9b>\u001b[0m in \u001b[0;36m<cell line: 4>\u001b[0;34m()\u001b[0m\n\u001b[1;32m      2\u001b[0m \u001b[0;34m\u001b[0m\u001b[0m\n\u001b[1;32m      3\u001b[0m \u001b[0;31m# TODO: evaluate on the test dataset\u001b[0m\u001b[0;34m\u001b[0m\u001b[0;34m\u001b[0m\u001b[0m\n\u001b[0;32m----> 4\u001b[0;31m \u001b[0mbaseline_result\u001b[0m \u001b[0;34m=\u001b[0m \u001b[0mevaluate\u001b[0m\u001b[0;34m(\u001b[0m\u001b[0muntrained_model\u001b[0m\u001b[0;34m,\u001b[0m \u001b[0mtest_dataloader\u001b[0m\u001b[0;34m,\u001b[0m \u001b[0mdevice\u001b[0m\u001b[0;34m,\u001b[0m \u001b[0mmetrics\u001b[0m\u001b[0;34m)\u001b[0m\u001b[0;34m[\u001b[0m\u001b[0;34m'accuracy'\u001b[0m\u001b[0;34m]\u001b[0m\u001b[0;34m\u001b[0m\u001b[0;34m\u001b[0m\u001b[0m\n\u001b[0m\u001b[1;32m      5\u001b[0m \u001b[0;34m\u001b[0m\u001b[0m\n\u001b[1;32m      6\u001b[0m \u001b[0;31m# If 'accuracy' is an array or tensor, handle it appropriately\u001b[0m\u001b[0;34m\u001b[0m\u001b[0;34m\u001b[0m\u001b[0m\n",
            "\u001b[0;32m<ipython-input-15-073505c7737e>\u001b[0m in \u001b[0;36mevaluate\u001b[0;34m(model, test_dataloader, device, metric_strs)\u001b[0m\n\u001b[1;32m     66\u001b[0m           \u001b[0mpredictions\u001b[0m \u001b[0;34m=\u001b[0m \u001b[0mlogits\u001b[0m\u001b[0;34m.\u001b[0m\u001b[0mdetach\u001b[0m\u001b[0;34m(\u001b[0m\u001b[0;34m)\u001b[0m\u001b[0;34m\u001b[0m\u001b[0;34m\u001b[0m\u001b[0m\n\u001b[1;32m     67\u001b[0m           \u001b[0mpredicted\u001b[0m \u001b[0;34m=\u001b[0m \u001b[0mtorch\u001b[0m\u001b[0;34m.\u001b[0m\u001b[0margmax\u001b[0m\u001b[0;34m(\u001b[0m\u001b[0mlogits\u001b[0m\u001b[0;34m,\u001b[0m \u001b[0mdim\u001b[0m\u001b[0;34m=\u001b[0m\u001b[0;36m1\u001b[0m\u001b[0;34m)\u001b[0m\u001b[0;34m\u001b[0m\u001b[0;34m\u001b[0m\u001b[0m\n\u001b[0;32m---> 68\u001b[0;31m           \u001b[0mupdate_metrics\u001b[0m\u001b[0;34m(\u001b[0m\u001b[0mmetrics\u001b[0m\u001b[0;34m,\u001b[0m \u001b[0mpredictions\u001b[0m\u001b[0;34m,\u001b[0m \u001b[0mlabs\u001b[0m\u001b[0;34m)\u001b[0m\u001b[0;34m\u001b[0m\u001b[0;34m\u001b[0m\u001b[0m\n\u001b[0m\u001b[1;32m     69\u001b[0m \u001b[0;34m\u001b[0m\u001b[0m\n\u001b[1;32m     70\u001b[0m           \u001b[0mpbar\u001b[0m\u001b[0;34m.\u001b[0m\u001b[0mupdate\u001b[0m\u001b[0;34m(\u001b[0m\u001b[0;36m1\u001b[0m\u001b[0;34m)\u001b[0m\u001b[0;34m\u001b[0m\u001b[0;34m\u001b[0m\u001b[0m\n",
            "\u001b[0;32m<ipython-input-15-073505c7737e>\u001b[0m in \u001b[0;36mupdate_metrics\u001b[0;34m(metrics, predictions, labels)\u001b[0m\n\u001b[1;32m     19\u001b[0m   \u001b[0;31m# and a batch of labels.\u001b[0m\u001b[0;34m\u001b[0m\u001b[0;34m\u001b[0m\u001b[0m\n\u001b[1;32m     20\u001b[0m   \u001b[0;32mfor\u001b[0m \u001b[0mmetric\u001b[0m \u001b[0;32min\u001b[0m \u001b[0mmetrics\u001b[0m\u001b[0;34m:\u001b[0m\u001b[0;34m\u001b[0m\u001b[0;34m\u001b[0m\u001b[0m\n\u001b[0;32m---> 21\u001b[0;31m     \u001b[0mmetric\u001b[0m\u001b[0;34m.\u001b[0m\u001b[0madd_batch\u001b[0m\u001b[0;34m(\u001b[0m\u001b[0mpredictions\u001b[0m\u001b[0;34m=\u001b[0m\u001b[0mpredictions\u001b[0m\u001b[0;34m,\u001b[0m \u001b[0mreferences\u001b[0m\u001b[0;34m=\u001b[0m\u001b[0mlabels\u001b[0m\u001b[0;34m)\u001b[0m\u001b[0;34m\u001b[0m\u001b[0;34m\u001b[0m\u001b[0m\n\u001b[0m\u001b[1;32m     22\u001b[0m \u001b[0;34m\u001b[0m\u001b[0m\n\u001b[1;32m     23\u001b[0m def evaluate(model: torch.nn.Module, test_dataloader: torch.utils.data.DataLoader,\n",
            "\u001b[0;32m/usr/local/lib/python3.10/dist-packages/datasets/metric.py\u001b[0m in \u001b[0;36madd_batch\u001b[0;34m(self, predictions, references, **kwargs)\u001b[0m\n\u001b[1;32m    494\u001b[0m         \u001b[0mbatch\u001b[0m \u001b[0;34m=\u001b[0m \u001b[0;34m{\u001b[0m\u001b[0;34m\"predictions\"\u001b[0m\u001b[0;34m:\u001b[0m \u001b[0mpredictions\u001b[0m\u001b[0;34m,\u001b[0m \u001b[0;34m\"references\"\u001b[0m\u001b[0;34m:\u001b[0m \u001b[0mreferences\u001b[0m\u001b[0;34m,\u001b[0m \u001b[0;34m**\u001b[0m\u001b[0mkwargs\u001b[0m\u001b[0;34m}\u001b[0m\u001b[0;34m\u001b[0m\u001b[0;34m\u001b[0m\u001b[0m\n\u001b[1;32m    495\u001b[0m         \u001b[0mbatch\u001b[0m \u001b[0;34m=\u001b[0m \u001b[0;34m{\u001b[0m\u001b[0mintput_name\u001b[0m\u001b[0;34m:\u001b[0m \u001b[0mbatch\u001b[0m\u001b[0;34m[\u001b[0m\u001b[0mintput_name\u001b[0m\u001b[0;34m]\u001b[0m \u001b[0;32mfor\u001b[0m \u001b[0mintput_name\u001b[0m \u001b[0;32min\u001b[0m \u001b[0mself\u001b[0m\u001b[0;34m.\u001b[0m\u001b[0mfeatures\u001b[0m\u001b[0;34m}\u001b[0m\u001b[0;34m\u001b[0m\u001b[0;34m\u001b[0m\u001b[0m\n\u001b[0;32m--> 496\u001b[0;31m         \u001b[0mbatch\u001b[0m \u001b[0;34m=\u001b[0m \u001b[0mself\u001b[0m\u001b[0;34m.\u001b[0m\u001b[0minfo\u001b[0m\u001b[0;34m.\u001b[0m\u001b[0mfeatures\u001b[0m\u001b[0;34m.\u001b[0m\u001b[0mencode_batch\u001b[0m\u001b[0;34m(\u001b[0m\u001b[0mbatch\u001b[0m\u001b[0;34m)\u001b[0m\u001b[0;34m\u001b[0m\u001b[0;34m\u001b[0m\u001b[0m\n\u001b[0m\u001b[1;32m    497\u001b[0m         \u001b[0;32mif\u001b[0m \u001b[0mself\u001b[0m\u001b[0;34m.\u001b[0m\u001b[0mwriter\u001b[0m \u001b[0;32mis\u001b[0m \u001b[0;32mNone\u001b[0m\u001b[0;34m:\u001b[0m\u001b[0;34m\u001b[0m\u001b[0;34m\u001b[0m\u001b[0m\n\u001b[1;32m    498\u001b[0m             \u001b[0mself\u001b[0m\u001b[0;34m.\u001b[0m\u001b[0m_init_writer\u001b[0m\u001b[0;34m(\u001b[0m\u001b[0;34m)\u001b[0m\u001b[0;34m\u001b[0m\u001b[0;34m\u001b[0m\u001b[0m\n",
            "\u001b[0;32m/usr/local/lib/python3.10/dist-packages/datasets/features/features.py\u001b[0m in \u001b[0;36mencode_batch\u001b[0;34m(self, batch)\u001b[0m\n\u001b[1;32m   1921\u001b[0m         \u001b[0;32mfor\u001b[0m \u001b[0mkey\u001b[0m\u001b[0;34m,\u001b[0m \u001b[0mcolumn\u001b[0m \u001b[0;32min\u001b[0m \u001b[0mbatch\u001b[0m\u001b[0;34m.\u001b[0m\u001b[0mitems\u001b[0m\u001b[0;34m(\u001b[0m\u001b[0;34m)\u001b[0m\u001b[0;34m:\u001b[0m\u001b[0;34m\u001b[0m\u001b[0;34m\u001b[0m\u001b[0m\n\u001b[1;32m   1922\u001b[0m             \u001b[0mcolumn\u001b[0m \u001b[0;34m=\u001b[0m \u001b[0mcast_to_python_objects\u001b[0m\u001b[0;34m(\u001b[0m\u001b[0mcolumn\u001b[0m\u001b[0;34m)\u001b[0m\u001b[0;34m\u001b[0m\u001b[0;34m\u001b[0m\u001b[0m\n\u001b[0;32m-> 1923\u001b[0;31m             \u001b[0mencoded_batch\u001b[0m\u001b[0;34m[\u001b[0m\u001b[0mkey\u001b[0m\u001b[0;34m]\u001b[0m \u001b[0;34m=\u001b[0m \u001b[0;34m[\u001b[0m\u001b[0mencode_nested_example\u001b[0m\u001b[0;34m(\u001b[0m\u001b[0mself\u001b[0m\u001b[0;34m[\u001b[0m\u001b[0mkey\u001b[0m\u001b[0;34m]\u001b[0m\u001b[0;34m,\u001b[0m \u001b[0mobj\u001b[0m\u001b[0;34m)\u001b[0m \u001b[0;32mfor\u001b[0m \u001b[0mobj\u001b[0m \u001b[0;32min\u001b[0m \u001b[0mcolumn\u001b[0m\u001b[0;34m]\u001b[0m\u001b[0;34m\u001b[0m\u001b[0;34m\u001b[0m\u001b[0m\n\u001b[0m\u001b[1;32m   1924\u001b[0m         \u001b[0;32mreturn\u001b[0m \u001b[0mencoded_batch\u001b[0m\u001b[0;34m\u001b[0m\u001b[0;34m\u001b[0m\u001b[0m\n\u001b[1;32m   1925\u001b[0m \u001b[0;34m\u001b[0m\u001b[0m\n",
            "\u001b[0;32m/usr/local/lib/python3.10/dist-packages/datasets/features/features.py\u001b[0m in \u001b[0;36m<listcomp>\u001b[0;34m(.0)\u001b[0m\n\u001b[1;32m   1921\u001b[0m         \u001b[0;32mfor\u001b[0m \u001b[0mkey\u001b[0m\u001b[0;34m,\u001b[0m \u001b[0mcolumn\u001b[0m \u001b[0;32min\u001b[0m \u001b[0mbatch\u001b[0m\u001b[0;34m.\u001b[0m\u001b[0mitems\u001b[0m\u001b[0;34m(\u001b[0m\u001b[0;34m)\u001b[0m\u001b[0;34m:\u001b[0m\u001b[0;34m\u001b[0m\u001b[0;34m\u001b[0m\u001b[0m\n\u001b[1;32m   1922\u001b[0m             \u001b[0mcolumn\u001b[0m \u001b[0;34m=\u001b[0m \u001b[0mcast_to_python_objects\u001b[0m\u001b[0;34m(\u001b[0m\u001b[0mcolumn\u001b[0m\u001b[0;34m)\u001b[0m\u001b[0;34m\u001b[0m\u001b[0;34m\u001b[0m\u001b[0m\n\u001b[0;32m-> 1923\u001b[0;31m             \u001b[0mencoded_batch\u001b[0m\u001b[0;34m[\u001b[0m\u001b[0mkey\u001b[0m\u001b[0;34m]\u001b[0m \u001b[0;34m=\u001b[0m \u001b[0;34m[\u001b[0m\u001b[0mencode_nested_example\u001b[0m\u001b[0;34m(\u001b[0m\u001b[0mself\u001b[0m\u001b[0;34m[\u001b[0m\u001b[0mkey\u001b[0m\u001b[0;34m]\u001b[0m\u001b[0;34m,\u001b[0m \u001b[0mobj\u001b[0m\u001b[0;34m)\u001b[0m \u001b[0;32mfor\u001b[0m \u001b[0mobj\u001b[0m \u001b[0;32min\u001b[0m \u001b[0mcolumn\u001b[0m\u001b[0;34m]\u001b[0m\u001b[0;34m\u001b[0m\u001b[0;34m\u001b[0m\u001b[0m\n\u001b[0m\u001b[1;32m   1924\u001b[0m         \u001b[0;32mreturn\u001b[0m \u001b[0mencoded_batch\u001b[0m\u001b[0;34m\u001b[0m\u001b[0;34m\u001b[0m\u001b[0m\n\u001b[1;32m   1925\u001b[0m \u001b[0;34m\u001b[0m\u001b[0m\n",
            "\u001b[0;32m/usr/local/lib/python3.10/dist-packages/datasets/features/features.py\u001b[0m in \u001b[0;36mencode_nested_example\u001b[0;34m(schema, obj, level)\u001b[0m\n\u001b[1;32m   1298\u001b[0m     \u001b[0;31m# ClassLabel will convert from string to int, TranslationVariableLanguages does some checks\u001b[0m\u001b[0;34m\u001b[0m\u001b[0;34m\u001b[0m\u001b[0m\n\u001b[1;32m   1299\u001b[0m     \u001b[0;32melif\u001b[0m \u001b[0misinstance\u001b[0m\u001b[0;34m(\u001b[0m\u001b[0mschema\u001b[0m\u001b[0;34m,\u001b[0m \u001b[0;34m(\u001b[0m\u001b[0mAudio\u001b[0m\u001b[0;34m,\u001b[0m \u001b[0mImage\u001b[0m\u001b[0;34m,\u001b[0m \u001b[0mClassLabel\u001b[0m\u001b[0;34m,\u001b[0m \u001b[0mTranslationVariableLanguages\u001b[0m\u001b[0;34m,\u001b[0m \u001b[0mValue\u001b[0m\u001b[0;34m,\u001b[0m \u001b[0m_ArrayXD\u001b[0m\u001b[0;34m)\u001b[0m\u001b[0;34m)\u001b[0m\u001b[0;34m:\u001b[0m\u001b[0;34m\u001b[0m\u001b[0;34m\u001b[0m\u001b[0m\n\u001b[0;32m-> 1300\u001b[0;31m         \u001b[0;32mreturn\u001b[0m \u001b[0mschema\u001b[0m\u001b[0;34m.\u001b[0m\u001b[0mencode_example\u001b[0m\u001b[0;34m(\u001b[0m\u001b[0mobj\u001b[0m\u001b[0;34m)\u001b[0m \u001b[0;32mif\u001b[0m \u001b[0mobj\u001b[0m \u001b[0;32mis\u001b[0m \u001b[0;32mnot\u001b[0m \u001b[0;32mNone\u001b[0m \u001b[0;32melse\u001b[0m \u001b[0;32mNone\u001b[0m\u001b[0;34m\u001b[0m\u001b[0;34m\u001b[0m\u001b[0m\n\u001b[0m\u001b[1;32m   1301\u001b[0m     \u001b[0;31m# Other object should be directly convertible to a native Arrow type (like Translation and Translation)\u001b[0m\u001b[0;34m\u001b[0m\u001b[0;34m\u001b[0m\u001b[0m\n\u001b[1;32m   1302\u001b[0m     \u001b[0;32mreturn\u001b[0m \u001b[0mobj\u001b[0m\u001b[0;34m\u001b[0m\u001b[0;34m\u001b[0m\u001b[0m\n",
            "\u001b[0;32m/usr/local/lib/python3.10/dist-packages/datasets/features/features.py\u001b[0m in \u001b[0;36mencode_example\u001b[0;34m(self, value)\u001b[0m\n\u001b[1;32m    513\u001b[0m             \u001b[0;32mreturn\u001b[0m \u001b[0mbool\u001b[0m\u001b[0;34m(\u001b[0m\u001b[0mvalue\u001b[0m\u001b[0;34m)\u001b[0m\u001b[0;34m\u001b[0m\u001b[0;34m\u001b[0m\u001b[0m\n\u001b[1;32m    514\u001b[0m         \u001b[0;32melif\u001b[0m \u001b[0mpa\u001b[0m\u001b[0;34m.\u001b[0m\u001b[0mtypes\u001b[0m\u001b[0;34m.\u001b[0m\u001b[0mis_integer\u001b[0m\u001b[0;34m(\u001b[0m\u001b[0mself\u001b[0m\u001b[0;34m.\u001b[0m\u001b[0mpa_type\u001b[0m\u001b[0;34m)\u001b[0m\u001b[0;34m:\u001b[0m\u001b[0;34m\u001b[0m\u001b[0;34m\u001b[0m\u001b[0m\n\u001b[0;32m--> 515\u001b[0;31m             \u001b[0;32mreturn\u001b[0m \u001b[0mint\u001b[0m\u001b[0;34m(\u001b[0m\u001b[0mvalue\u001b[0m\u001b[0;34m)\u001b[0m\u001b[0;34m\u001b[0m\u001b[0;34m\u001b[0m\u001b[0m\n\u001b[0m\u001b[1;32m    516\u001b[0m         \u001b[0;32melif\u001b[0m \u001b[0mpa\u001b[0m\u001b[0;34m.\u001b[0m\u001b[0mtypes\u001b[0m\u001b[0;34m.\u001b[0m\u001b[0mis_floating\u001b[0m\u001b[0;34m(\u001b[0m\u001b[0mself\u001b[0m\u001b[0;34m.\u001b[0m\u001b[0mpa_type\u001b[0m\u001b[0;34m)\u001b[0m\u001b[0;34m:\u001b[0m\u001b[0;34m\u001b[0m\u001b[0;34m\u001b[0m\u001b[0m\n\u001b[1;32m    517\u001b[0m             \u001b[0;32mreturn\u001b[0m \u001b[0mfloat\u001b[0m\u001b[0;34m(\u001b[0m\u001b[0mvalue\u001b[0m\u001b[0;34m)\u001b[0m\u001b[0;34m\u001b[0m\u001b[0;34m\u001b[0m\u001b[0m\n",
            "\u001b[0;31mTypeError\u001b[0m: only length-1 arrays can be converted to Python scalars"
          ]
        }
      ],
      "source": [
        "metrics = ['accuracy']\n",
        "\n",
        "# TODO: evaluate on the test dataset\n",
        "baseline_result = evaluate(untrained_model, test_dataloader, device, metrics)['accuracy']\n",
        "\n",
        "# now, plot! Do not modify the following:\n",
        "results = [baseline_result]\n",
        "names = ['Baseline']\n",
        "make_plots(results, names)"
      ]
    },
    {
      "cell_type": "markdown",
      "metadata": {
        "id": "HkBSLJGGcH5n"
      },
      "source": [
        "## Part 3 - Model trained for sentiment analysis from scatch\n",
        "\n",
        "\n"
      ]
    },
    {
      "cell_type": "markdown",
      "source": [
        "In this part of the homework, you will take your completely untrained model and train it to perform sentiment analysis. That is, you will update the weights so as to get as good performance as possible at predicting sentiment."
      ],
      "metadata": {
        "id": "fXrLVul7ZNBb"
      }
    },
    {
      "cell_type": "markdown",
      "metadata": {
        "id": "T2zGkeKvCo2P"
      },
      "source": [
        "### 1. Write a function to train your model"
      ]
    },
    {
      "cell_type": "markdown",
      "metadata": {
        "id": "iIRTopzAtU-V"
      },
      "source": [
        "The training loop will follow similar steps to the evaluation loop:\n",
        "For each batch in each epoch (an epoch is one pass through all of the training data), you will:\n",
        "1. Apply the model on the batch inputs (feedforward pass through the model)\n",
        "2. Obtain the predictions, as well as the labels\n",
        "3. Compare the predictions with the labels and calculate the loss\n",
        "4. Backpropagate the loss and obtain gradients for all parameters\n",
        "5. Update the optimizer and learning rate\n",
        "6. Record the desired metrics based on the outputs and labels\n",
        "In addition to this, we'd like to keep track of some metrics during each epoch, and at the end of an epoch we want to run an evaluation on the validation set (you can use the evaluation loop!). Specifically, we want to know the training accuracy (accuracy measured against the training set) and validation accuracy - they can be reported through `print` statements.\n",
        "\n",
        "Reading [PyTorch](https://pytorch.org/docs/stable/index.html) documentation should be very useful here. We'll provide the function signature.\n",
        "\n"
      ]
    },
    {
      "cell_type": "code",
      "execution_count": null,
      "metadata": {
        "id": "mAnyoYIKcaw8"
      },
      "outputs": [],
      "source": [
        "def train(model: torch.nn.Module, optimizer: Optimizer, num_epochs: int,\n",
        "          train_dataloader: DataLoader, validation_dataloader: DataLoader,\n",
        "          lr_scheduler: Any, device: torch.device) -> None:\n",
        "  \"\"\"\n",
        "  Trains a model by performing a forward pass and backpropating on batches to optimize loss.\n",
        "\n",
        "  Parameters:\n",
        "  -----------\n",
        "  model : torch.nn.Module\n",
        "      The model to be trained.\n",
        "  optimizer : torch.optim.Optimizer\n",
        "      The training optimizer.\n",
        "  num_epochs : int\n",
        "      Number of epochs to train for.\n",
        "  train_dataloader : DataLoader\n",
        "      DataLoader containing training examples.\n",
        "  validation_dataloader : DataLoader\n",
        "      DataLoader containing validation examples.\n",
        "  lr_scheduler : Any\n",
        "      Learning rate scheduler.\n",
        "  device : torch.device\n",
        "      The device that the training will be performed on.\n",
        "\n",
        "  Returns:\n",
        "  --------\n",
        "  None\n",
        "  \"\"\"\n",
        "\n",
        "  # Define your loss function; Use CrossEntropyLoss\n",
        "  loss_function = torch.nn.CrossEntropyLoss\n",
        "\n",
        "  # added these losss\n",
        "  running_loss = 0.\n",
        "  last_loss = 0.\n",
        "\n",
        "  for epoch in range(num_epochs):\n",
        "    # put the model in training mode (important that this is done each epoch,\n",
        "    # since we put the model into eval mode during validation)\n",
        "    model.train()\n",
        "\n",
        "    # load metrics\n",
        "    metrics = [load_metric(x) for x in [\"accuracy\"]] # could add more here!\n",
        "\n",
        "    print(f\"Epoch {epoch + 1} training:\")\n",
        "    progress_bar = tqdm(range(len(train_dataloader)))\n",
        "\n",
        "    # TODO: Fill in the rest of the train function by applying the model with the dataloader\n",
        "    # HINT: Remember to use .detach() before passing model predictions to update_metrics function,\n",
        "\n",
        "    for index, data in enumerate(train_dataloader):\n",
        "        # Every data instance is an input + label pair\n",
        "        inputs, attention_mask, labels = data['input_ids'], data['attention_mask'], data['labels']\n",
        "\n",
        "        # send the model inputs .to() the device that the model is on\n",
        "        preds = inputs.to(device)\n",
        "        labs = labels.to(device)\n",
        "        attention_mask = attention_mask.to(device)\n",
        "\n",
        "        # Feedforward pass\n",
        "        outputs = model(preds, attention_mask)\n",
        "        logits = outputs.logits\n",
        "\n",
        "        # Detach logits to free memory\n",
        "        predictions = logits.detach()\n",
        "\n",
        "        # obtain predictions\n",
        "        predicted = torch.argmax(logits)\n",
        "\n",
        "        # Zero your gradients for every batch! - as pytorch accumulates the gradients from each batch onto the existing grads\n",
        "        optimizer.zero_grad()\n",
        "\n",
        "        # Compute the loss and its gradients\n",
        "        loss = loss_function(predicted, labels)\n",
        "        # backpropagate the loss and computes the grads\n",
        "        loss.backward()\n",
        "\n",
        "        # Adjust learning weights based on the grads\n",
        "        optimizer.step()\n",
        "\n",
        "        update_metrics(metrics, predictions, labs)\n",
        "\n",
        "        # Gather data and report\n",
        "        # running_loss accumulates the loss value over batches within the epoch\n",
        "        running_loss += loss.item()\n",
        "        if index % 1000 == 999:   # every 1000th batch\n",
        "            last_loss = running_loss / 1000   # calc avg loss per batch\n",
        "            running_loss = 0.\n",
        "\n",
        "    return last_loss\n",
        "\n",
        "    # print the epoch's average metrics\n",
        "    print(f\"Epoch {epoch+1} average training metrics: accuracy={metrics[0].compute()['accuracy']}\")\n",
        "\n",
        "    # normally, validation would be more useful when training for many epochs\n",
        "    print(\"Running validation:\")\n",
        "    # TODO: evaluate model on validation dataset\n",
        "    val_metrics = evaluate(untrained_model, validation_dataloader, device, metrics)\n",
        "    print(f\"Epoch {epoch+1} validation: accuracy={val_metrics['accuracy']}\")\n"
      ]
    },
    {
      "cell_type": "markdown",
      "metadata": {
        "id": "N6SIbywfwSWQ"
      },
      "source": [
        "### 2. Training the untrained model:"
      ]
    },
    {
      "cell_type": "markdown",
      "metadata": {
        "id": "gAVKwkU7wb5B"
      },
      "source": [
        "Great - now that we've defined our training function, we can use it to try to train the untrained model from scratch! Train the model for **2 epochs**!\n",
        "\n",
        "**A note on warmup steps, optimizers**: An optimizer is a particular algorithm used to minimize the loss function. Optimizers like AdamW try to adapt the learning rate for individual parameters by collecting statistics about them. Warmup impacts some optimizers. Warmup steps allow the statistics calculated by some optimizers to converge before the optimizer starts to update parameters impactfully. During the warmup, the optimizer is updating parameters, but just by a much smaller magnitude than usual. Read more about optimizers [here](https://www.analyticsvidhya.com/blog/2021/10/a-comprehensive-guide-on-deep-learning-optimizers/#:~:text=While%20training%20the%20deep%20learning,loss%20and%20improve%20the%20accuracy.), and warmup [here](https://d2l.ai/chapter_optimization/lr-scheduler.html#warmup). The warmup is handled by the learning rate scheduler behind the scenes.\n",
        "\n",
        "First, we need to set up our optimizer, learning rate scheduler, and determine the number of epochs to train for. These are all parameters to the `train` function."
      ]
    },
    {
      "cell_type": "code",
      "execution_count": null,
      "metadata": {
        "id": "fu2xF7SnwwWi"
      },
      "outputs": [],
      "source": [
        "from transformers import get_scheduler\n",
        "\n",
        "num_epochs = 2\n",
        "\n",
        "# TODO: use the AdamW optimizer. Use torch.optim.AdamW.\n",
        "# instantiate it on the untrained model parameters with a learning rate of 5e-5\n",
        "optimizer = torch.optim.AdamW(untrained_model.parameters(), lr=5e-5)\n",
        "\n",
        "# now, we set up the learning rate scheduler\n",
        "lr_scheduler = get_scheduler(\n",
        "  \"linear\",\n",
        "  optimizer=optimizer,\n",
        "  num_warmup_steps=50,\n",
        "  num_training_steps=len(train_dataloader) * num_epochs\n",
        ")"
      ]
    },
    {
      "cell_type": "code",
      "execution_count": null,
      "metadata": {
        "id": "_jktOLw9xJxS"
      },
      "outputs": [],
      "source": [
        "torch.cuda.empty_cache()\n",
        "untrained_model.to(device)\n",
        "\n",
        "# TODO: now call your training loop!\n",
        "train(untrained_model, optimizer, num_epochs, train_dataloader, validation_dataloader, lr_scheduler, device)"
      ]
    },
    {
      "cell_type": "markdown",
      "metadata": {
        "id": "xgAS0msxxgmd"
      },
      "source": [
        "Hypothetically, the untrained model is now slightly trained."
      ]
    },
    {
      "cell_type": "markdown",
      "metadata": {
        "id": "EkwCN4wrxn1p"
      },
      "source": [
        "### 3. Evaluate the trained model:"
      ]
    },
    {
      "cell_type": "markdown",
      "metadata": {
        "id": "g8QstKRRxtpV"
      },
      "source": [
        "Call the evaluation loop on the model we just trained! View the bar graph to compare it to the baseline."
      ]
    },
    {
      "cell_type": "code",
      "execution_count": null,
      "metadata": {
        "id": "MG8wV4c8yJb_"
      },
      "outputs": [],
      "source": [
        "metrics = ['accuracy']\n",
        "\n",
        "# TODO: Evaluate on test dataset!\n",
        "trained_result = evaluate(untrained_model, test_dataloader, device, metrics)['accuracy']\n",
        "\n",
        "# now, plot! Do not modify the following:\n",
        "results = baseline_result, trained_result\n",
        "names = ['Baseline', 'Manually Trained']\n",
        "make_plots(results, names)"
      ]
    },
    {
      "cell_type": "markdown",
      "metadata": {
        "id": "OVY1H7SAyyxP"
      },
      "source": [
        "As you can see, this model achieves an accuracy of around 55% after the first two epochs. Training it for further epochs (which you don't need to do) renders minimal improvement. To achieve better performance when training DistilBERT from scratch for this purpose, we'd need a lot more data and a lot more time (and/or compute). Fortunately, there is a better way!"
      ]
    },
    {
      "cell_type": "markdown",
      "metadata": {
        "id": "TqqmGK5ryeRr"
      },
      "source": [
        "## Part 4 - Finetuning a pre-trained model"
      ]
    },
    {
      "cell_type": "markdown",
      "metadata": {
        "id": "hEoT4c2Cymoz"
      },
      "source": [
        "Since manually training the model for sentiment analysis didn't work very well, let's fine-tune a pre-trained model."
      ]
    },
    {
      "cell_type": "markdown",
      "metadata": {
        "id": "9lWnuLCFy8sJ"
      },
      "source": [
        "### 1. Load pre-trained model:"
      ]
    },
    {
      "cell_type": "markdown",
      "metadata": {
        "id": "sayo06S74lx4"
      },
      "source": [
        "This time, we'll make use of a pre-trained version of DistilBERT - everything's the same as before, but the model has actually already been trained for a masked language modeling task."
      ]
    },
    {
      "cell_type": "code",
      "execution_count": null,
      "metadata": {
        "id": "tbuZY_Xzy8Gc"
      },
      "outputs": [],
      "source": [
        "from transformers import DistilBertForSequenceClassification\n",
        "\n",
        "# TODO: load the distilbert-base-uncased pre-trained model, use DistilBertForSequenceClassification\n",
        "# from Hugging Face (transformers), read their documentation to do this.\n",
        "# WARNING: This dataset has three classes! The default for this model is two!\n",
        "pretrained_model = DistilBertForSequenceClassification.from_pretrained('distilbert-base-uncased')\n",
        "\n",
        "# Ignore the warnings printed below."
      ]
    },
    {
      "cell_type": "markdown",
      "metadata": {
        "id": "zUnaNxCSz0Go"
      },
      "source": [
        "Let's give it a test run...\n",
        "To motivate, the pre-trained model isn't particularly good at this specific task out-of-the box, to see this, evaluate it on the test set just the way it is."
      ]
    },
    {
      "cell_type": "code",
      "execution_count": null,
      "metadata": {
        "id": "SlMMfY620Ud1"
      },
      "outputs": [],
      "source": [
        "# We have to move it to the device before doing anything with it!\n",
        "pretrained_model.to(device)\n",
        "\n",
        "# TODO: call evaluate on the pre-trained model!\n",
        "pretrained_result = evaluate(pretrained_model, test_dataloader, device, metrics)['accuracy']\n",
        "\n",
        "# now, plot! Do not modify the following:\n",
        "results = [baseline_result, trained_result, pretrained_result]\n",
        "names = ['Baseline', 'Manually trained', 'Pre-trained']\n",
        "make_plots(results, names)"
      ]
    },
    {
      "cell_type": "markdown",
      "metadata": {
        "id": "NsBRmaPq0yx-"
      },
      "source": [
        "As we can see, without any fine-tuning, the pre-trained model performs rather badly."
      ]
    },
    {
      "cell_type": "markdown",
      "metadata": {
        "id": "MSdPDbOL1qBV"
      },
      "source": [
        "### 2. Fine-tuning pre-trained model:"
      ]
    },
    {
      "cell_type": "markdown",
      "metadata": {
        "id": "8cC-gLLX0Iww"
      },
      "source": [
        "Rather than train the model from scratch, we'll now fine-tune the pre-trained model! That is, we will take the model that was trained to predict masked words,\n",
        "and now train it on our sentiment analysis task.\n",
        "We'll fine-tune by simply running the `train` function on our pre-trained model with the training data! Fine-tune it for **2 epochs**."
      ]
    },
    {
      "cell_type": "code",
      "execution_count": null,
      "metadata": {
        "id": "WTW6T8bH0yga"
      },
      "outputs": [],
      "source": [
        "num_epochs = 2\n",
        "\n",
        "# TODO: use the same kind of optimizer as before, but with the pretrained model's parameters\n",
        "optimizer = torch.optim.AdamW(pretrained_model.parameters(), lr=5e-5)\n",
        "\n",
        "# this hasn't changed\n",
        "lr_scheduler = get_scheduler(\n",
        "  \"linear\",\n",
        "  optimizer=optimizer,\n",
        "  num_warmup_steps=50,\n",
        "  num_training_steps=len(train_dataloader) * num_epochs\n",
        ")"
      ]
    },
    {
      "cell_type": "code",
      "execution_count": null,
      "metadata": {
        "id": "kZEmlHFM1Wt7"
      },
      "outputs": [],
      "source": [
        "torch.cuda.empty_cache()\n",
        "pretrained_model.to(device)\n",
        "\n",
        "# TODO: train!\n",
        "train(pretrained_model, optimizer, num_epochs, train_dataloader, validation_dataloader, lr_scheduler, device)"
      ]
    },
    {
      "cell_type": "markdown",
      "metadata": {
        "id": "p4rOFE7D1bpu"
      },
      "source": [
        "You should've seen a sneak-peak of the model's performance based on the validation accuracies!"
      ]
    },
    {
      "cell_type": "markdown",
      "metadata": {
        "id": "OHLUYPvY1kjC"
      },
      "source": [
        "### 3. Evaluating the fine-tuned model:"
      ]
    },
    {
      "cell_type": "code",
      "execution_count": null,
      "metadata": {
        "id": "d15yLO5L1yf4"
      },
      "outputs": [],
      "source": [
        "# TODO: Evaluate the fine-tuned model on the test dataset\n",
        "finetuned_result = evaluate(pretrained_model, test_dataloader, device, metrics)['accuracy']\n",
        "\n",
        "# now, plot! Do not modify the following:\n",
        "results = [baseline_result, trained_result, pretrained_result, finetuned_result]\n",
        "names = ['Baseline', 'Manually trained', 'Pre-trained', 'Fine-tuned']\n",
        "make_plots(results, names)"
      ]
    },
    {
      "cell_type": "markdown",
      "metadata": {
        "id": "-MgaiZQX3Uyo"
      },
      "source": [
        "Wow! With just two epochs of training, and only 3k training examples, we can achieve ~75% accuracy (this should be attainable)! As we can see, the pre-trained model has a very noticeable advantage over the completely untrained one. Training for an additional epoch renders a slight improvement, afterwhich the fine-tuning begins to overfit on our training set, which can be judged by comparing the average epoch training accuracies and validation accuracies.\n",
        "\n",
        "Additionally, remember that this was the dataset used in assignment 1, where you had to do significant pre-processing to get the accuracy to just ~65%! With ease (and less training data, since here we had a 60/20/20 split), DistilBERT has an even better performance."
      ]
    },
    {
      "cell_type": "markdown",
      "metadata": {
        "id": "IKgscWfnz_PQ"
      },
      "source": [
        "## Part 5 - Conceptual Questions\n",
        "\n",
        "1. Take a look at Dataset and the BERT tokenizer (as well as their documentation). Print the output of `__getitem__` for one tweet. What does `__getitem__` return? Describe what the three components are, what their contents are (be as concrete as possible), and how they correspond to what we've seen in class. Include in your answer: describe what the numbers you see are referring to (broadly), what the zeros mean, etc. In other words, describe as concretely as possible what the input to DistilBERT needs to be.\n",
        "\n",
        "2. For each version of the model that you evaluated, describe what that model was trained to do (if anything). Report the accuracy observed for each. Do these relative accuracies make sense to you? Briefly explain why each model performs the way it does. If a model performs well, why does it perform well? If a model performs poorly, why does it perform poorly?\n",
        "\n",
        "3. In this assignment we've covered several methods of getting a language model to do a task (in this case, sentiment analysis): (i) Using a pretrained model off-the-shelf; (ii) Manually training a model from scratch; and (iii) Fine-tuning a pretrained model. People have to balance various factors when considering which method to adopt in deploying language models. List at least two factors that a person may wish to consider and their implications for which method(s) would be best.\n",
        "\n",
        "How long (roughly) did it take you to complete this assignment?\n",
        "\n",
        "Note: From here, you can make relatively easy switches. For example, you can easily sub in BERT instead of DistilBERT, or swap DistilBertForTokenClassification or DistilBertForMaskedLM or DistilBertForQuestionAnswering to consider a different task. All of NLP is at your fingertips :)"
      ]
    },
    {
      "cell_type": "markdown",
      "metadata": {
        "id": "MGT9K4v66Dv6"
      },
      "source": [
        "## Hand-in:\n",
        "To hand-in, first delete any debugging print statements, this helps me read your code.\n",
        "\n",
        "Then, go to Runtime->Restart and run all to run the entire notebook with your completed code.\n",
        "\n",
        "Finally, submit TWO files:\n",
        "(1) download the notebook as a .ipynb, and\n",
        "(2) go to File > Print > Save as PDF.\n",
        "\n",
        "Upload the **.ipynb AND .pdf** to Blackboard.\n"
      ]
    }
  ],
  "metadata": {
    "accelerator": "GPU",
    "colab": {
      "provenance": [],
      "include_colab_link": true
    },
    "gpuClass": "standard",
    "kernelspec": {
      "display_name": "Python 3.9.7 64-bit",
      "language": "python",
      "name": "python3"
    },
    "language_info": {
      "name": "python",
      "version": "3.9.7"
    },
    "vscode": {
      "interpreter": {
        "hash": "cd309e6aeab0bd9d83c4bd3bfed081617b53e9cd2894363ef80f097c73d52faa"
      }
    },
    "widgets": {
      "application/vnd.jupyter.widget-state+json": {
        "a8effd0096d64c19910de045576d6cc8": {
          "model_module": "@jupyter-widgets/controls",
          "model_name": "HBoxModel",
          "model_module_version": "1.5.0",
          "state": {
            "_dom_classes": [],
            "_model_module": "@jupyter-widgets/controls",
            "_model_module_version": "1.5.0",
            "_model_name": "HBoxModel",
            "_view_count": null,
            "_view_module": "@jupyter-widgets/controls",
            "_view_module_version": "1.5.0",
            "_view_name": "HBoxView",
            "box_style": "",
            "children": [
              "IPY_MODEL_33f830a816ab4e208a660412c19d8f9b",
              "IPY_MODEL_7480bf4eeb7f4839b022bdd54028d4e3",
              "IPY_MODEL_6383283efb264e899abff5b9f053d956"
            ],
            "layout": "IPY_MODEL_595ddc9ddc0a4b05a7ab70dcaa2ae1cd"
          }
        },
        "33f830a816ab4e208a660412c19d8f9b": {
          "model_module": "@jupyter-widgets/controls",
          "model_name": "HTMLModel",
          "model_module_version": "1.5.0",
          "state": {
            "_dom_classes": [],
            "_model_module": "@jupyter-widgets/controls",
            "_model_module_version": "1.5.0",
            "_model_name": "HTMLModel",
            "_view_count": null,
            "_view_module": "@jupyter-widgets/controls",
            "_view_module_version": "1.5.0",
            "_view_name": "HTMLView",
            "description": "",
            "description_tooltip": null,
            "layout": "IPY_MODEL_eadbb92526e2414fad0a2e0786d3e1fb",
            "placeholder": "​",
            "style": "IPY_MODEL_57814766827041778ef36dbe58423f0f",
            "value": "  0%"
          }
        },
        "7480bf4eeb7f4839b022bdd54028d4e3": {
          "model_module": "@jupyter-widgets/controls",
          "model_name": "FloatProgressModel",
          "model_module_version": "1.5.0",
          "state": {
            "_dom_classes": [],
            "_model_module": "@jupyter-widgets/controls",
            "_model_module_version": "1.5.0",
            "_model_name": "FloatProgressModel",
            "_view_count": null,
            "_view_module": "@jupyter-widgets/controls",
            "_view_module_version": "1.5.0",
            "_view_name": "ProgressView",
            "bar_style": "",
            "description": "",
            "description_tooltip": null,
            "layout": "IPY_MODEL_85a0e8a7ed21410daeaa2a45af5242d3",
            "max": 67,
            "min": 0,
            "orientation": "horizontal",
            "style": "IPY_MODEL_23310e200ac2474c9d31d06aed39797d",
            "value": 0
          }
        },
        "6383283efb264e899abff5b9f053d956": {
          "model_module": "@jupyter-widgets/controls",
          "model_name": "HTMLModel",
          "model_module_version": "1.5.0",
          "state": {
            "_dom_classes": [],
            "_model_module": "@jupyter-widgets/controls",
            "_model_module_version": "1.5.0",
            "_model_name": "HTMLModel",
            "_view_count": null,
            "_view_module": "@jupyter-widgets/controls",
            "_view_module_version": "1.5.0",
            "_view_name": "HTMLView",
            "description": "",
            "description_tooltip": null,
            "layout": "IPY_MODEL_71922aa9e54a424292f65325d09cc008",
            "placeholder": "​",
            "style": "IPY_MODEL_bd1148ee871c44999d6ec00ce3a8132f",
            "value": " 0/67 [00:00&lt;?, ?it/s]"
          }
        },
        "595ddc9ddc0a4b05a7ab70dcaa2ae1cd": {
          "model_module": "@jupyter-widgets/base",
          "model_name": "LayoutModel",
          "model_module_version": "1.2.0",
          "state": {
            "_model_module": "@jupyter-widgets/base",
            "_model_module_version": "1.2.0",
            "_model_name": "LayoutModel",
            "_view_count": null,
            "_view_module": "@jupyter-widgets/base",
            "_view_module_version": "1.2.0",
            "_view_name": "LayoutView",
            "align_content": null,
            "align_items": null,
            "align_self": null,
            "border": null,
            "bottom": null,
            "display": null,
            "flex": null,
            "flex_flow": null,
            "grid_area": null,
            "grid_auto_columns": null,
            "grid_auto_flow": null,
            "grid_auto_rows": null,
            "grid_column": null,
            "grid_gap": null,
            "grid_row": null,
            "grid_template_areas": null,
            "grid_template_columns": null,
            "grid_template_rows": null,
            "height": null,
            "justify_content": null,
            "justify_items": null,
            "left": null,
            "margin": null,
            "max_height": null,
            "max_width": null,
            "min_height": null,
            "min_width": null,
            "object_fit": null,
            "object_position": null,
            "order": null,
            "overflow": null,
            "overflow_x": null,
            "overflow_y": null,
            "padding": null,
            "right": null,
            "top": null,
            "visibility": null,
            "width": null
          }
        },
        "eadbb92526e2414fad0a2e0786d3e1fb": {
          "model_module": "@jupyter-widgets/base",
          "model_name": "LayoutModel",
          "model_module_version": "1.2.0",
          "state": {
            "_model_module": "@jupyter-widgets/base",
            "_model_module_version": "1.2.0",
            "_model_name": "LayoutModel",
            "_view_count": null,
            "_view_module": "@jupyter-widgets/base",
            "_view_module_version": "1.2.0",
            "_view_name": "LayoutView",
            "align_content": null,
            "align_items": null,
            "align_self": null,
            "border": null,
            "bottom": null,
            "display": null,
            "flex": null,
            "flex_flow": null,
            "grid_area": null,
            "grid_auto_columns": null,
            "grid_auto_flow": null,
            "grid_auto_rows": null,
            "grid_column": null,
            "grid_gap": null,
            "grid_row": null,
            "grid_template_areas": null,
            "grid_template_columns": null,
            "grid_template_rows": null,
            "height": null,
            "justify_content": null,
            "justify_items": null,
            "left": null,
            "margin": null,
            "max_height": null,
            "max_width": null,
            "min_height": null,
            "min_width": null,
            "object_fit": null,
            "object_position": null,
            "order": null,
            "overflow": null,
            "overflow_x": null,
            "overflow_y": null,
            "padding": null,
            "right": null,
            "top": null,
            "visibility": null,
            "width": null
          }
        },
        "57814766827041778ef36dbe58423f0f": {
          "model_module": "@jupyter-widgets/controls",
          "model_name": "DescriptionStyleModel",
          "model_module_version": "1.5.0",
          "state": {
            "_model_module": "@jupyter-widgets/controls",
            "_model_module_version": "1.5.0",
            "_model_name": "DescriptionStyleModel",
            "_view_count": null,
            "_view_module": "@jupyter-widgets/base",
            "_view_module_version": "1.2.0",
            "_view_name": "StyleView",
            "description_width": ""
          }
        },
        "85a0e8a7ed21410daeaa2a45af5242d3": {
          "model_module": "@jupyter-widgets/base",
          "model_name": "LayoutModel",
          "model_module_version": "1.2.0",
          "state": {
            "_model_module": "@jupyter-widgets/base",
            "_model_module_version": "1.2.0",
            "_model_name": "LayoutModel",
            "_view_count": null,
            "_view_module": "@jupyter-widgets/base",
            "_view_module_version": "1.2.0",
            "_view_name": "LayoutView",
            "align_content": null,
            "align_items": null,
            "align_self": null,
            "border": null,
            "bottom": null,
            "display": null,
            "flex": null,
            "flex_flow": null,
            "grid_area": null,
            "grid_auto_columns": null,
            "grid_auto_flow": null,
            "grid_auto_rows": null,
            "grid_column": null,
            "grid_gap": null,
            "grid_row": null,
            "grid_template_areas": null,
            "grid_template_columns": null,
            "grid_template_rows": null,
            "height": null,
            "justify_content": null,
            "justify_items": null,
            "left": null,
            "margin": null,
            "max_height": null,
            "max_width": null,
            "min_height": null,
            "min_width": null,
            "object_fit": null,
            "object_position": null,
            "order": null,
            "overflow": null,
            "overflow_x": null,
            "overflow_y": null,
            "padding": null,
            "right": null,
            "top": null,
            "visibility": null,
            "width": null
          }
        },
        "23310e200ac2474c9d31d06aed39797d": {
          "model_module": "@jupyter-widgets/controls",
          "model_name": "ProgressStyleModel",
          "model_module_version": "1.5.0",
          "state": {
            "_model_module": "@jupyter-widgets/controls",
            "_model_module_version": "1.5.0",
            "_model_name": "ProgressStyleModel",
            "_view_count": null,
            "_view_module": "@jupyter-widgets/base",
            "_view_module_version": "1.2.0",
            "_view_name": "StyleView",
            "bar_color": null,
            "description_width": ""
          }
        },
        "71922aa9e54a424292f65325d09cc008": {
          "model_module": "@jupyter-widgets/base",
          "model_name": "LayoutModel",
          "model_module_version": "1.2.0",
          "state": {
            "_model_module": "@jupyter-widgets/base",
            "_model_module_version": "1.2.0",
            "_model_name": "LayoutModel",
            "_view_count": null,
            "_view_module": "@jupyter-widgets/base",
            "_view_module_version": "1.2.0",
            "_view_name": "LayoutView",
            "align_content": null,
            "align_items": null,
            "align_self": null,
            "border": null,
            "bottom": null,
            "display": null,
            "flex": null,
            "flex_flow": null,
            "grid_area": null,
            "grid_auto_columns": null,
            "grid_auto_flow": null,
            "grid_auto_rows": null,
            "grid_column": null,
            "grid_gap": null,
            "grid_row": null,
            "grid_template_areas": null,
            "grid_template_columns": null,
            "grid_template_rows": null,
            "height": null,
            "justify_content": null,
            "justify_items": null,
            "left": null,
            "margin": null,
            "max_height": null,
            "max_width": null,
            "min_height": null,
            "min_width": null,
            "object_fit": null,
            "object_position": null,
            "order": null,
            "overflow": null,
            "overflow_x": null,
            "overflow_y": null,
            "padding": null,
            "right": null,
            "top": null,
            "visibility": null,
            "width": null
          }
        },
        "bd1148ee871c44999d6ec00ce3a8132f": {
          "model_module": "@jupyter-widgets/controls",
          "model_name": "DescriptionStyleModel",
          "model_module_version": "1.5.0",
          "state": {
            "_model_module": "@jupyter-widgets/controls",
            "_model_module_version": "1.5.0",
            "_model_name": "DescriptionStyleModel",
            "_view_count": null,
            "_view_module": "@jupyter-widgets/base",
            "_view_module_version": "1.2.0",
            "_view_name": "StyleView",
            "description_width": ""
          }
        },
        "3dfbd8055f8442d9b6450e5de1755d15": {
          "model_module": "@jupyter-widgets/controls",
          "model_name": "HBoxModel",
          "model_module_version": "1.5.0",
          "state": {
            "_dom_classes": [],
            "_model_module": "@jupyter-widgets/controls",
            "_model_module_version": "1.5.0",
            "_model_name": "HBoxModel",
            "_view_count": null,
            "_view_module": "@jupyter-widgets/controls",
            "_view_module_version": "1.5.0",
            "_view_name": "HBoxView",
            "box_style": "",
            "children": [
              "IPY_MODEL_59e9b3af3e2d4430bc57bf8e19c89edc",
              "IPY_MODEL_def1804daf684efbb385845ecf1dc10a",
              "IPY_MODEL_d70f52f3a66c4b158bdefe80ea4c6611"
            ],
            "layout": "IPY_MODEL_d5a8a792e026419eb1500b98bf1c088f"
          }
        },
        "59e9b3af3e2d4430bc57bf8e19c89edc": {
          "model_module": "@jupyter-widgets/controls",
          "model_name": "HTMLModel",
          "model_module_version": "1.5.0",
          "state": {
            "_dom_classes": [],
            "_model_module": "@jupyter-widgets/controls",
            "_model_module_version": "1.5.0",
            "_model_name": "HTMLModel",
            "_view_count": null,
            "_view_module": "@jupyter-widgets/controls",
            "_view_module_version": "1.5.0",
            "_view_name": "HTMLView",
            "description": "",
            "description_tooltip": null,
            "layout": "IPY_MODEL_caf3b045e94d47d989fb6cd12952dfcd",
            "placeholder": "​",
            "style": "IPY_MODEL_f586d015f1c24f8c8d6be05a172234e3",
            "value": "  0%"
          }
        },
        "def1804daf684efbb385845ecf1dc10a": {
          "model_module": "@jupyter-widgets/controls",
          "model_name": "FloatProgressModel",
          "model_module_version": "1.5.0",
          "state": {
            "_dom_classes": [],
            "_model_module": "@jupyter-widgets/controls",
            "_model_module_version": "1.5.0",
            "_model_name": "FloatProgressModel",
            "_view_count": null,
            "_view_module": "@jupyter-widgets/controls",
            "_view_module_version": "1.5.0",
            "_view_name": "ProgressView",
            "bar_style": "danger",
            "description": "",
            "description_tooltip": null,
            "layout": "IPY_MODEL_9c6dd4f1391243bbbbcf32b8de32b771",
            "max": 67,
            "min": 0,
            "orientation": "horizontal",
            "style": "IPY_MODEL_fa09bee0df954e0b8b811672d3d20845",
            "value": 0
          }
        },
        "d70f52f3a66c4b158bdefe80ea4c6611": {
          "model_module": "@jupyter-widgets/controls",
          "model_name": "HTMLModel",
          "model_module_version": "1.5.0",
          "state": {
            "_dom_classes": [],
            "_model_module": "@jupyter-widgets/controls",
            "_model_module_version": "1.5.0",
            "_model_name": "HTMLModel",
            "_view_count": null,
            "_view_module": "@jupyter-widgets/controls",
            "_view_module_version": "1.5.0",
            "_view_name": "HTMLView",
            "description": "",
            "description_tooltip": null,
            "layout": "IPY_MODEL_47967c7d6569464aae918a12c5d1c7f1",
            "placeholder": "​",
            "style": "IPY_MODEL_1d5930901b804a9eb45ec444e2780b21",
            "value": " 0/67 [00:00&lt;?, ?it/s]"
          }
        },
        "d5a8a792e026419eb1500b98bf1c088f": {
          "model_module": "@jupyter-widgets/base",
          "model_name": "LayoutModel",
          "model_module_version": "1.2.0",
          "state": {
            "_model_module": "@jupyter-widgets/base",
            "_model_module_version": "1.2.0",
            "_model_name": "LayoutModel",
            "_view_count": null,
            "_view_module": "@jupyter-widgets/base",
            "_view_module_version": "1.2.0",
            "_view_name": "LayoutView",
            "align_content": null,
            "align_items": null,
            "align_self": null,
            "border": null,
            "bottom": null,
            "display": null,
            "flex": null,
            "flex_flow": null,
            "grid_area": null,
            "grid_auto_columns": null,
            "grid_auto_flow": null,
            "grid_auto_rows": null,
            "grid_column": null,
            "grid_gap": null,
            "grid_row": null,
            "grid_template_areas": null,
            "grid_template_columns": null,
            "grid_template_rows": null,
            "height": null,
            "justify_content": null,
            "justify_items": null,
            "left": null,
            "margin": null,
            "max_height": null,
            "max_width": null,
            "min_height": null,
            "min_width": null,
            "object_fit": null,
            "object_position": null,
            "order": null,
            "overflow": null,
            "overflow_x": null,
            "overflow_y": null,
            "padding": null,
            "right": null,
            "top": null,
            "visibility": null,
            "width": null
          }
        },
        "caf3b045e94d47d989fb6cd12952dfcd": {
          "model_module": "@jupyter-widgets/base",
          "model_name": "LayoutModel",
          "model_module_version": "1.2.0",
          "state": {
            "_model_module": "@jupyter-widgets/base",
            "_model_module_version": "1.2.0",
            "_model_name": "LayoutModel",
            "_view_count": null,
            "_view_module": "@jupyter-widgets/base",
            "_view_module_version": "1.2.0",
            "_view_name": "LayoutView",
            "align_content": null,
            "align_items": null,
            "align_self": null,
            "border": null,
            "bottom": null,
            "display": null,
            "flex": null,
            "flex_flow": null,
            "grid_area": null,
            "grid_auto_columns": null,
            "grid_auto_flow": null,
            "grid_auto_rows": null,
            "grid_column": null,
            "grid_gap": null,
            "grid_row": null,
            "grid_template_areas": null,
            "grid_template_columns": null,
            "grid_template_rows": null,
            "height": null,
            "justify_content": null,
            "justify_items": null,
            "left": null,
            "margin": null,
            "max_height": null,
            "max_width": null,
            "min_height": null,
            "min_width": null,
            "object_fit": null,
            "object_position": null,
            "order": null,
            "overflow": null,
            "overflow_x": null,
            "overflow_y": null,
            "padding": null,
            "right": null,
            "top": null,
            "visibility": null,
            "width": null
          }
        },
        "f586d015f1c24f8c8d6be05a172234e3": {
          "model_module": "@jupyter-widgets/controls",
          "model_name": "DescriptionStyleModel",
          "model_module_version": "1.5.0",
          "state": {
            "_model_module": "@jupyter-widgets/controls",
            "_model_module_version": "1.5.0",
            "_model_name": "DescriptionStyleModel",
            "_view_count": null,
            "_view_module": "@jupyter-widgets/base",
            "_view_module_version": "1.2.0",
            "_view_name": "StyleView",
            "description_width": ""
          }
        },
        "9c6dd4f1391243bbbbcf32b8de32b771": {
          "model_module": "@jupyter-widgets/base",
          "model_name": "LayoutModel",
          "model_module_version": "1.2.0",
          "state": {
            "_model_module": "@jupyter-widgets/base",
            "_model_module_version": "1.2.0",
            "_model_name": "LayoutModel",
            "_view_count": null,
            "_view_module": "@jupyter-widgets/base",
            "_view_module_version": "1.2.0",
            "_view_name": "LayoutView",
            "align_content": null,
            "align_items": null,
            "align_self": null,
            "border": null,
            "bottom": null,
            "display": null,
            "flex": null,
            "flex_flow": null,
            "grid_area": null,
            "grid_auto_columns": null,
            "grid_auto_flow": null,
            "grid_auto_rows": null,
            "grid_column": null,
            "grid_gap": null,
            "grid_row": null,
            "grid_template_areas": null,
            "grid_template_columns": null,
            "grid_template_rows": null,
            "height": null,
            "justify_content": null,
            "justify_items": null,
            "left": null,
            "margin": null,
            "max_height": null,
            "max_width": null,
            "min_height": null,
            "min_width": null,
            "object_fit": null,
            "object_position": null,
            "order": null,
            "overflow": null,
            "overflow_x": null,
            "overflow_y": null,
            "padding": null,
            "right": null,
            "top": null,
            "visibility": null,
            "width": null
          }
        },
        "fa09bee0df954e0b8b811672d3d20845": {
          "model_module": "@jupyter-widgets/controls",
          "model_name": "ProgressStyleModel",
          "model_module_version": "1.5.0",
          "state": {
            "_model_module": "@jupyter-widgets/controls",
            "_model_module_version": "1.5.0",
            "_model_name": "ProgressStyleModel",
            "_view_count": null,
            "_view_module": "@jupyter-widgets/base",
            "_view_module_version": "1.2.0",
            "_view_name": "StyleView",
            "bar_color": null,
            "description_width": ""
          }
        },
        "47967c7d6569464aae918a12c5d1c7f1": {
          "model_module": "@jupyter-widgets/base",
          "model_name": "LayoutModel",
          "model_module_version": "1.2.0",
          "state": {
            "_model_module": "@jupyter-widgets/base",
            "_model_module_version": "1.2.0",
            "_model_name": "LayoutModel",
            "_view_count": null,
            "_view_module": "@jupyter-widgets/base",
            "_view_module_version": "1.2.0",
            "_view_name": "LayoutView",
            "align_content": null,
            "align_items": null,
            "align_self": null,
            "border": null,
            "bottom": null,
            "display": null,
            "flex": null,
            "flex_flow": null,
            "grid_area": null,
            "grid_auto_columns": null,
            "grid_auto_flow": null,
            "grid_auto_rows": null,
            "grid_column": null,
            "grid_gap": null,
            "grid_row": null,
            "grid_template_areas": null,
            "grid_template_columns": null,
            "grid_template_rows": null,
            "height": null,
            "justify_content": null,
            "justify_items": null,
            "left": null,
            "margin": null,
            "max_height": null,
            "max_width": null,
            "min_height": null,
            "min_width": null,
            "object_fit": null,
            "object_position": null,
            "order": null,
            "overflow": null,
            "overflow_x": null,
            "overflow_y": null,
            "padding": null,
            "right": null,
            "top": null,
            "visibility": null,
            "width": null
          }
        },
        "1d5930901b804a9eb45ec444e2780b21": {
          "model_module": "@jupyter-widgets/controls",
          "model_name": "DescriptionStyleModel",
          "model_module_version": "1.5.0",
          "state": {
            "_model_module": "@jupyter-widgets/controls",
            "_model_module_version": "1.5.0",
            "_model_name": "DescriptionStyleModel",
            "_view_count": null,
            "_view_module": "@jupyter-widgets/base",
            "_view_module_version": "1.2.0",
            "_view_name": "StyleView",
            "description_width": ""
          }
        }
      }
    }
  },
  "nbformat": 4,
  "nbformat_minor": 0
}